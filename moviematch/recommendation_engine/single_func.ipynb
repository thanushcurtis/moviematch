{
 "cells": [
  {
   "cell_type": "code",
   "execution_count": null,
   "metadata": {},
   "outputs": [],
   "source": [
    "from dotenv import load_dotenv\n",
    "import os\n",
    "import requests\n",
    "\n",
    "load_dotenv()\n",
    "\n",
    "TMBD_API_KEY=os.environ[\"TMBD_API_KEY\"]\n",
    "TMBD_ACCESS_TOKEN=os.environ[\"TMBD_ACCESS_TOKEN\"]"
   ]
  },
  {
   "cell_type": "code",
   "execution_count": null,
   "metadata": {},
   "outputs": [],
   "source": [
    "def get_movie_reviews(movie_id):\n",
    "    url = f'https://api.themoviedb.org/3/movie/{movie_id}/reviews?language=en-US&page=1'\n",
    "    headers = {\n",
    "    'Authorization': 'Bearer '+TMBD_ACCESS_TOKEN,\n",
    "    'accept': 'application/json',\n",
    "    }\n",
    "    response = requests.get(url, headers=headers)\n",
    "\n",
    "    if response.status_code == 200:\n",
    "        reviews_data = response.json()\n",
    "        reviews_list = []\n",
    "        \n",
    "\n",
    "        for review in reviews_data.get(\"results\", []):\n",
    "            review_info = {\n",
    "                \"movie_id\": movie_id,\n",
    "                \"rating\": review[\"author_details\"].get(\"rating\"),\n",
    "                \"content\": review[\"content\"]\n",
    "            }\n",
    "            reviews_list.append(review_info)\n",
    "        \n",
    "        return reviews_list\n",
    "    else:\n",
    "        print(\"Failed to fetch reviews from TMDB API\")\n",
    "        return []  "
   ]
  },
  {
   "cell_type": "code",
   "execution_count": null,
   "metadata": {},
   "outputs": [],
   "source": [
    "genre_url = 'https://api.themoviedb.org/3/genre/movie/list?language=en'\n",
    "headers = {\n",
    "    'Authorization': 'Bearer '+TMBD_ACCESS_TOKEN,\n",
    "    'accept': 'application/json',\n",
    "}\n",
    "response = requests.get(genre_url, headers=headers)\n",
    "genres = response.json()\n",
    "print(genres)\n"
   ]
  },
  {
   "cell_type": "code",
   "execution_count": null,
   "metadata": {},
   "outputs": [],
   "source": [
    "\n",
    "favourite_genres = [28, 16, 35, 10749, 878]\n",
    "favourite_genres = [str(genre) for genre in favourite_genres]\n",
    "\n",
    "movie_search_by_name_url = 'https://api.themoviedb.org/3/search/movie?query=Spider+Man&api_key='+TMBD_API_KEY\n",
    "response = requests.get(movie_search_by_name_url, headers=headers)\n",
    "result = response.json()\n",
    "print(result)"
   ]
  },
  {
   "cell_type": "code",
   "execution_count": null,
   "metadata": {},
   "outputs": [],
   "source": [
    "def fetch_reviews_for_watched_movies(watched_movies):\n",
    "    movie_reviews_dict = {}\n",
    "    for movie_id in watched_movies:\n",
    "        reviews = get_movie_reviews(movie_id)\n",
    "        movie_reviews_dict[movie_id] = reviews\n",
    "    return movie_reviews_dict"
   ]
  },
  {
   "cell_type": "code",
   "execution_count": null,
   "metadata": {},
   "outputs": [],
   "source": [
    "# user liked movies Inception, Iron-Man, Hangover, Dark Knight, Avengers, Oppenhiemer\n",
    "watched_movies = [1726]\n",
    "movie_reviews_dict = fetch_reviews_for_watched_movies(watched_movies)\n",
    "for movie_id, reviews in movie_reviews_dict.items():\n",
    "    print(f\"Movie ID {movie_id} has {len(reviews)} review(s).\")"
   ]
  },
  {
   "cell_type": "code",
   "execution_count": 5,
   "metadata": {},
   "outputs": [
    {
     "name": "stdout",
     "output_type": "stream",
     "text": [
      "Common elements: {'good', 'main', 'proper', 'right', 'wonderful', 'many', 'brilliant', 'cool', 'new', 'fantastic', 'popular', 'previous', 'special', 'best', 'amazing', 'comic', 'visual', 'current', 'much', 'emotional', 'great', 'real', 'magnificent', 'correct', 'possible', 'terrible', 'strong', 'different', 'abysmal'}\n",
      "Unique elements in list 1: {'nostalgic', 'talented', 'cinematic', 'fashioned', 'overall', 'sentimental', 'heroic', 'imaginary', 'curious', 'fluff', 'romantic', 'highest', 'forgettable', 'rare', 'undecided', 'numerous', 'true', 'super', 'primary', 'iconic', 'explicit', 'human', 'innovative', 'generic', 'modern', 'latest', 'fun', 'bitter', 'sexual', 'demographic', 'treacherous', 'secondary', 'famous', 'explosive', 'pure', 'rich', 'unknown', 'deadly', 'hollow', 'separate', 'impeccable', 'universe', 'interesting', 'cheesy', 'decent', 'supernatural', 'psychological', 'scrawny', 'general', 'unfounded', 'bland', 'puny', 'little', 'perfect', 'reliable', 'thespian', 'marvel', 'major', 'mature', 'laden', 'awful', 'skilled', 'young', 'touching', 'colourful', 'definitive', 'lawless', 'striking', 'respective', 'typical', 'muscular', 'central', 'boring', 'natural', 'religious', 'wealthy', 'crazy', 'minded', 'procedural', 'christian', 'artificial', 'valuable', 'difficult', 'favourite', 'splendid', 'hilarious', 'dramatic', 'superior', 'geopolitical', 'common', 'favorite', 'solid', 'incredible', 'skillful', 'important', 'thinky', 'unappealing', 'greatest', 'additional', 'underwhelming', 'small', 'dark'}\n",
      "Unique elements in list 2: {'irresistible', 'prolific', 'repetitive', 'unbelievable', 'excellent', 'industrial', 'broken', 'international', 'unsuited', 'clear', 'disgusted', 'original', 'complex', 'polar', 'traditional', 'beautiful', 'appreciative', 'unhappy', 'political', 'underwater', 'ambitious', 'experimental', 'rapid', 'female', 'acclaimed', 'suspenseful', 'audiovisual', 'big', 'massive', 'fictional', 'aesthetic', 'impressive', 'ancillary', 'understanding', 'futuristic', 'memorable', 'photographic', 'speculative', 'secret', 'worth', 'crucial', 'symmetrical', 'phenomenal', 'multiple', 'deep', 'tragic', 'significant', 'biggest', 'present', 'cute', 'riveting', 'provocative', 'constant', 'blockbuster', 'enormous', 'large', 'actual', 'compelling', 'plausible', 'practical', 'funny', 'absolute', 'mesmerized', 'austere', 'horrific', 'superfluous', 'intriguing', 'incredulous', 'better', 'colossal', 'potent', 'audio', 'unique', 'entertaining', 'temporal', 'secretive', 'underperformed', 'stupid', 'delightful', 'local', 'global', 'weird', 'liquid', 'scientific'}\n"
     ]
    }
   ],
   "source": [
    "# Define the two lists\n",
    "list_1 = ['modern', 'numerous', 'awful', 'imaginary', 'true', 'artificial', 'bland', 'thinky', 'correct', 'cinematic', 'mature', 'many', 'visual', 'forgettable', 'possible', 'rich', 'right', 'super', 'skillful', 'rare', 'wonderful', 'highest', 'nostalgic', 'fashioned', 'much', 'major', 'central', 'secondary', 'primary', 'crazy', 'innovative', 'treacherous', 'supernatural', 'strong', 'abysmal', 'current', 'dark', 'christian', 'important', 'fun', 'sentimental', 'solid', 'scrawny', 'lawless', 'generic', 'cool', 'marvel', 'emotional', 'wealthy', 'deadly', 'valuable', 'amazing', 'dramatic', 'unknown', 'greatest', 'brilliant', 'curious', 'perfect', 'unappealing', 'fluff', 'young', 'reliable', 'thespian', 'little', 'human', 'difficult', 'fantastic', 'favourite', 'latest', 'small', 'popular', 'comic', 'best', 'good', 'romantic', 'minded', 'real', 'colourful', 'iconic', 'geopolitical', 'interesting', 'psychological', 'famous', 'separate', 'puny', 'explosive', 'boring', 'underwhelming', 'unfounded', 'cheesy', 'pure', 'impeccable', 'splendid', 'bitter', 'great', 'talented', 'hilarious', 'magnificent', 'overall', 'different', 'laden', 'natural', 'religious', 'incredible', 'hollow', 'universe', 'new', 'proper', 'sexual', 'previous', 'additional', 'skilled', 'common', 'typical', 'favorite', 'touching', 'muscular', 'special', 'procedural', 'striking', 'terrible', 'respective', 'main', 'explicit', 'general', 'definitive', 'demographic', 'heroic', 'undecided', 'decent', 'superior']\n",
    "list_2 = ['polar', 'secretive', 'prolific', 'entertaining', 'experimental', 'correct', 'original', 'many', 'visual', 'unbelievable', 'possible', 'right', 'repetitive', 'industrial', 'constant', 'unhappy', 'wonderful', 'acclaimed', 'tragic', 'much', 'international', 'temporal', 'political', 'scientific', 'worth', 'better', 'aesthetic', 'ancillary', 'strong', 'abysmal', 'current', 'massive', 'futuristic', 'traditional', 'local', 'cool', 'emotional', 'intriguing', 'amazing', 'disgusted', 'riveting', 'significant', 'austere', 'female', 'brilliant', 'delightful', 'crucial', 'colossal', 'beautiful', 'enormous', 'irresistible', 'unique', 'blockbuster', 'fantastic', 'clear', 'actual', 'liquid', 'popular', 'comic', 'best', 'good', 'impressive', 'superfluous', 'incredulous', 'underwater', 'real', 'excellent', 'large', 'funny', 'understanding', 'ambitious', 'plausible', 'phenomenal', 'memorable', 'horrific', 'great', 'symmetrical', 'magnificent', 'different', 'global', 'photographic', 'broken', 'biggest', 'absolute', 'new', 'rapid', 'proper', 'suspenseful', 'cute', 'previous', 'audiovisual', 'weird', 'fictional', 'deep', 'stupid', 'compelling', 'practical', 'special', 'appreciative', 'terrible', 'multiple', 'main', 'mesmerized', 'underperformed', 'present', 'secret', 'provocative', 'speculative', 'potent', 'big', 'unsuited', 'complex', 'audio']\n",
    "\n",
    "# Find common elements\n",
    "common_elements = set(list_1).intersection(set(list_2))\n",
    "\n",
    "# Find unique elements in each list\n",
    "unique_in_list_1 = set(list_1).difference(set(list_2))\n",
    "unique_in_list_2 = set(list_2).difference(set(list_1))\n",
    "print(f\"Common elements: {common_elements}\")\n",
    "print(f\"Unique elements in list 1: {unique_in_list_1}\")\n",
    "print(f\"Unique elements in list 2: {unique_in_list_2}\")\n"
   ]
  }
 ],
 "metadata": {
  "kernelspec": {
   "display_name": "moviematchflask",
   "language": "python",
   "name": "python3"
  },
  "language_info": {
   "codemirror_mode": {
    "name": "ipython",
    "version": 3
   },
   "file_extension": ".py",
   "mimetype": "text/x-python",
   "name": "python",
   "nbconvert_exporter": "python",
   "pygments_lexer": "ipython3",
   "version": "3.10.13"
  }
 },
 "nbformat": 4,
 "nbformat_minor": 2
}
